{
  "nbformat": 4,
  "nbformat_minor": 0,
  "metadata": {
    "colab": {
      "provenance": []
    },
    "kernelspec": {
      "name": "python3",
      "display_name": "Python 3"
    },
    "language_info": {
      "name": "python"
    }
  },
  "cells": [
    {
      "cell_type": "markdown",
      "source": [
        "**Data Preparation**"
      ],
      "metadata": {
        "id": "qljD5_bazAPa"
      }
    },
    {
      "cell_type": "code",
      "source": [
        "import tensorflow as tf\n",
        "import tensorflow_datasets as tfds\n",
        "from sklearn.model_selection import train_test_split\n",
        "import numpy as np\n",
        "\n",
        "#KMNIST dataset\n",
        "kmnist_data, kmnist_info = tfds.load('kmnist', split=['train', 'test'], as_supervised=True, with_info=True)\n",
        "\n",
        "# Preprocessing the data\n",
        "def preprocess_image(image, label):\n",
        "    image = tf.cast(image, tf.float32) / 255.0\n",
        "    image = tf.image.resize(image, [28, 28])\n",
        "    return image, label\n",
        "\n",
        "# Applying preprocessing to the training and test datasets\n",
        "train_data = kmnist_data[0].map(preprocess_image)\n",
        "test_data = kmnist_data[1].map(preprocess_image)\n",
        "\n",
        "# Preparing training data\n",
        "x_train, y_train = [], []\n",
        "for img, label in train_data:\n",
        "    x_train.append(img.numpy().flatten())\n",
        "    y_train.append(label.numpy())\n",
        "\n",
        "x_train = np.array(x_train)\n",
        "y_train = np.array(y_train)\n",
        "\n",
        "# Splitting\n",
        "x_train, x_val, y_train, y_val = train_test_split(x_train, y_train, test_size=0.2, random_state=42)\n",
        "\n",
        "# Preparing test data\n",
        "x_test, y_test = [], []\n",
        "for img, label in test_data:\n",
        "    x_test.append(img.numpy().flatten())\n",
        "    y_test.append(label.numpy())\n",
        "\n",
        "x_test = np.array(x_test)\n",
        "y_test = np.array(y_test)\n",
        "\n",
        "print(f'Training data shape: {x_train.shape}, Validation data shape: {x_val.shape}, Test data shape: {x_test.shape}')\n"
      ],
      "metadata": {
        "colab": {
          "base_uri": "https://localhost:8080/"
        },
        "id": "BuJrysQPBnKH",
        "outputId": "f4453844-6bee-41a1-a2f4-cbf07f028585"
      },
      "execution_count": 13,
      "outputs": [
        {
          "output_type": "stream",
          "name": "stdout",
          "text": [
            "Training data shape: (48000, 784), Validation data shape: (12000, 784), Test data shape: (10000, 784)\n"
          ]
        }
      ]
    },
    {
      "cell_type": "markdown",
      "source": [
        "**Radial Basis Function (RBF) Network**"
      ],
      "metadata": {
        "id": "5isl-xCvzDi-"
      }
    },
    {
      "cell_type": "code",
      "source": [
        "import tensorflow as tf\n",
        "from tensorflow.keras import layers, models\n",
        "\n",
        "class RBF(tf.keras.Model):\n",
        "    def __init__(self, num_hidden_units):\n",
        "        super(RBF, self).__init__()\n",
        "        self.num_hidden_units = num_hidden_units\n",
        "        self.centers = tf.Variable(tf.random.uniform((num_hidden_units, 784), 0, 1))\n",
        "        self.bias = tf.Variable(tf.zeros(num_hidden_units))\n",
        "        self.output_layer = layers.Dense(10, activation='softmax')\n",
        "\n",
        "    def call(self, x):\n",
        "        distance = tf.norm(tf.expand_dims(x, axis=1) - self.centers, axis=2)\n",
        "        rbf_output = tf.exp(-tf.square(distance))\n",
        "        return self.output_layer(rbf_output + self.bias)\n",
        "\n",
        "num_hidden_units = 64\n",
        "model = RBF(num_hidden_units)\n"
      ],
      "metadata": {
        "id": "b7Q-DRbPwuKQ"
      },
      "execution_count": 14,
      "outputs": []
    },
    {
      "cell_type": "markdown",
      "source": [
        "**Training**"
      ],
      "metadata": {
        "id": "OgvzUx6uzFER"
      }
    },
    {
      "cell_type": "code",
      "source": [
        "from sklearn.cluster import KMeans\n",
        "\n",
        "#K-means to find centers\n",
        "kmeans = KMeans(n_clusters=num_hidden_units, random_state=42)\n",
        "kmeans.fit(x_train)\n",
        "model.centers.assign(kmeans.cluster_centers_)\n"
      ],
      "metadata": {
        "colab": {
          "base_uri": "https://localhost:8080/"
        },
        "id": "q_qyjV4OzFTS",
        "outputId": "3ad1d6f8-30e5-4858-a391-7ac945d46ac7"
      },
      "execution_count": 15,
      "outputs": [
        {
          "output_type": "execute_result",
          "data": {
            "text/plain": [
              "<tf.Variable 'UnreadVariable' shape=(64, 784) dtype=float32, numpy=\n",
              "array([[6.17648300e-04, 1.40196760e-03, 8.03930685e-04, ...,\n",
              "        4.15686565e-03, 1.27460342e-04, 5.82076609e-09],\n",
              "       [8.38190317e-09, 3.75050120e-04, 1.08724297e-03, ...,\n",
              "        7.87988305e-04, 4.79559880e-04, 1.99393253e-04],\n",
              "       [1.15207734e-03, 1.24242867e-03, 1.14757824e-03, ...,\n",
              "        3.04045249e-03, 2.19123019e-03, 2.09632097e-03],\n",
              "       ...,\n",
              "       [4.99999907e-04, 2.53921631e-03, 6.05882332e-03, ...,\n",
              "        5.16666938e-03, 1.92155363e-03, 6.86321873e-05],\n",
              "       [1.65940262e-03, 2.05652090e-03, 1.47504290e-03, ...,\n",
              "        4.72290441e-03, 2.28345767e-03, 5.31865400e-04],\n",
              "       [6.75208867e-09, 7.27474689e-05, 7.56683294e-04, ...,\n",
              "        9.38490964e-04, 1.17866416e-03, 1.16416835e-04]], dtype=float32)>"
            ]
          },
          "metadata": {},
          "execution_count": 15
        }
      ]
    },
    {
      "cell_type": "code",
      "source": [
        "#loss function and optimizer\n",
        "loss_fn = tf.keras.losses.SparseCategoricalCrossentropy()\n",
        "optimizer = tf.keras.optimizers.Adam(learning_rate=0.01)\n",
        "\n",
        "# Training loop\n",
        "epochs = 100\n",
        "batch_size = 64\n",
        "\n",
        "for epoch in range(epochs):\n",
        "    indices = np.arange(x_train.shape[0])\n",
        "    np.random.shuffle(indices)\n",
        "\n",
        "    for i in range(0, len(x_train), batch_size):\n",
        "        batch_indices = indices[i:i + batch_size]\n",
        "        with tf.GradientTape() as tape:\n",
        "            predictions = model(x_train[batch_indices])\n",
        "            loss = loss_fn(y_train[batch_indices], predictions)\n",
        "\n",
        "        gradients = tape.gradient(loss, model.trainable_variables)\n",
        "        optimizer.apply_gradients(zip(gradients, model.trainable_variables))\n",
        "\n",
        "    print(f'Epoch {epoch + 1}/{epochs}, Loss: {loss.numpy()}')\n"
      ],
      "metadata": {
        "colab": {
          "base_uri": "https://localhost:8080/"
        },
        "id": "wnSBLe-TDvaO",
        "outputId": "48207af7-90de-4bbd-9e76-c863566b38d0"
      },
      "execution_count": 16,
      "outputs": [
        {
          "output_type": "stream",
          "name": "stdout",
          "text": [
            "Epoch 1/100, Loss: 2.305028200149536\n",
            "Epoch 2/100, Loss: 2.306403160095215\n",
            "Epoch 3/100, Loss: 2.2930941581726074\n",
            "Epoch 4/100, Loss: 2.2994189262390137\n",
            "Epoch 5/100, Loss: 2.3085498809814453\n",
            "Epoch 6/100, Loss: 2.3034515380859375\n",
            "Epoch 7/100, Loss: 2.305459499359131\n",
            "Epoch 8/100, Loss: 2.3018746376037598\n",
            "Epoch 9/100, Loss: 2.302731513977051\n",
            "Epoch 10/100, Loss: 2.301572799682617\n",
            "Epoch 11/100, Loss: 2.3045997619628906\n",
            "Epoch 12/100, Loss: 2.298118829727173\n",
            "Epoch 13/100, Loss: 2.301370143890381\n",
            "Epoch 14/100, Loss: 2.3014252185821533\n",
            "Epoch 15/100, Loss: 2.301734685897827\n",
            "Epoch 16/100, Loss: 2.3037033081054688\n",
            "Epoch 17/100, Loss: 2.315609931945801\n",
            "Epoch 18/100, Loss: 2.301865339279175\n",
            "Epoch 19/100, Loss: 2.311182975769043\n",
            "Epoch 20/100, Loss: 2.2949109077453613\n",
            "Epoch 21/100, Loss: 2.3115458488464355\n",
            "Epoch 22/100, Loss: 2.3113231658935547\n",
            "Epoch 23/100, Loss: 2.303136110305786\n",
            "Epoch 24/100, Loss: 2.3034801483154297\n",
            "Epoch 25/100, Loss: 2.300459623336792\n",
            "Epoch 26/100, Loss: 2.299020767211914\n",
            "Epoch 27/100, Loss: 2.3166985511779785\n",
            "Epoch 28/100, Loss: 2.3065543174743652\n",
            "Epoch 29/100, Loss: 2.3073058128356934\n",
            "Epoch 30/100, Loss: 2.303872585296631\n",
            "Epoch 31/100, Loss: 2.3092918395996094\n",
            "Epoch 32/100, Loss: 2.3076486587524414\n",
            "Epoch 33/100, Loss: 2.305048942565918\n",
            "Epoch 34/100, Loss: 2.299511671066284\n",
            "Epoch 35/100, Loss: 2.3062925338745117\n",
            "Epoch 36/100, Loss: 2.30437970161438\n",
            "Epoch 37/100, Loss: 2.296316146850586\n",
            "Epoch 38/100, Loss: 2.3096189498901367\n",
            "Epoch 39/100, Loss: 2.3033275604248047\n",
            "Epoch 40/100, Loss: 2.3022143840789795\n",
            "Epoch 41/100, Loss: 2.307703733444214\n",
            "Epoch 42/100, Loss: 2.307063579559326\n",
            "Epoch 43/100, Loss: 2.30118465423584\n",
            "Epoch 44/100, Loss: 2.3080782890319824\n",
            "Epoch 45/100, Loss: 2.301595449447632\n",
            "Epoch 46/100, Loss: 2.308382749557495\n",
            "Epoch 47/100, Loss: 2.3054404258728027\n",
            "Epoch 48/100, Loss: 2.299008369445801\n",
            "Epoch 49/100, Loss: 2.3039350509643555\n",
            "Epoch 50/100, Loss: 2.2991509437561035\n",
            "Epoch 51/100, Loss: 2.3105688095092773\n",
            "Epoch 52/100, Loss: 2.3065173625946045\n",
            "Epoch 53/100, Loss: 2.3058595657348633\n",
            "Epoch 54/100, Loss: 2.3011860847473145\n",
            "Epoch 55/100, Loss: 2.300438404083252\n",
            "Epoch 56/100, Loss: 2.312925100326538\n",
            "Epoch 57/100, Loss: 2.304826021194458\n",
            "Epoch 58/100, Loss: 2.295588970184326\n",
            "Epoch 59/100, Loss: 2.3063066005706787\n",
            "Epoch 60/100, Loss: 2.309782028198242\n",
            "Epoch 61/100, Loss: 2.307143211364746\n",
            "Epoch 62/100, Loss: 2.2965612411499023\n",
            "Epoch 63/100, Loss: 2.307361125946045\n",
            "Epoch 64/100, Loss: 2.3023550510406494\n",
            "Epoch 65/100, Loss: 2.296114921569824\n",
            "Epoch 66/100, Loss: 2.302973508834839\n",
            "Epoch 67/100, Loss: 2.3097991943359375\n",
            "Epoch 68/100, Loss: 2.3040199279785156\n",
            "Epoch 69/100, Loss: 2.309020519256592\n",
            "Epoch 70/100, Loss: 2.3031435012817383\n",
            "Epoch 71/100, Loss: 2.3012280464172363\n",
            "Epoch 72/100, Loss: 2.3028926849365234\n",
            "Epoch 73/100, Loss: 2.298579216003418\n",
            "Epoch 74/100, Loss: 2.3077588081359863\n",
            "Epoch 75/100, Loss: 2.310840129852295\n",
            "Epoch 76/100, Loss: 2.30551815032959\n",
            "Epoch 77/100, Loss: 2.300353527069092\n",
            "Epoch 78/100, Loss: 2.30832839012146\n",
            "Epoch 79/100, Loss: 2.314821243286133\n",
            "Epoch 80/100, Loss: 2.309818744659424\n",
            "Epoch 81/100, Loss: 2.3131723403930664\n",
            "Epoch 82/100, Loss: 2.3074374198913574\n",
            "Epoch 83/100, Loss: 2.3015990257263184\n",
            "Epoch 84/100, Loss: 2.2959861755371094\n",
            "Epoch 85/100, Loss: 2.307415723800659\n",
            "Epoch 86/100, Loss: 2.304121255874634\n",
            "Epoch 87/100, Loss: 2.300257921218872\n",
            "Epoch 88/100, Loss: 2.3056390285491943\n",
            "Epoch 89/100, Loss: 2.3010313510894775\n",
            "Epoch 90/100, Loss: 2.2989375591278076\n",
            "Epoch 91/100, Loss: 2.3041763305664062\n",
            "Epoch 92/100, Loss: 2.3012583255767822\n",
            "Epoch 93/100, Loss: 2.2978739738464355\n",
            "Epoch 94/100, Loss: 2.296121835708618\n",
            "Epoch 95/100, Loss: 2.303925037384033\n",
            "Epoch 96/100, Loss: 2.2980992794036865\n",
            "Epoch 97/100, Loss: 2.3031370639801025\n",
            "Epoch 98/100, Loss: 2.303201913833618\n",
            "Epoch 99/100, Loss: 2.3019213676452637\n",
            "Epoch 100/100, Loss: 2.3002774715423584\n"
          ]
        }
      ]
    },
    {
      "cell_type": "markdown",
      "source": [
        "**Evaluation**"
      ],
      "metadata": {
        "id": "rNnEdougzMCg"
      }
    },
    {
      "cell_type": "code",
      "source": [
        "from sklearn.metrics import confusion_matrix, accuracy_score\n",
        "import seaborn as sns\n",
        "import matplotlib.pyplot as plt\n",
        "\n",
        "#predictions for test set\n",
        "y_pred = model(x_test).numpy().argmax(axis=1)\n",
        "\n",
        "#accuracy\n",
        "accuracy = accuracy_score(y_test, y_pred)\n",
        "print(f'Test Accuracy: {accuracy * 100:.2f}%')\n",
        "\n",
        "#confusion matrix\n",
        "cm = confusion_matrix(y_test, y_pred)\n",
        "\n",
        "# Visualizing\n",
        "plt.figure(figsize=(10, 8))\n",
        "sns.heatmap(cm, annot=True, fmt='d', cmap='Blues')\n",
        "plt.xlabel('Predicted')\n",
        "plt.ylabel('True')\n",
        "plt.title('Confusion Matrix')\n",
        "plt.show()\n"
      ],
      "metadata": {
        "colab": {
          "base_uri": "https://localhost:8080/",
          "height": 735
        },
        "id": "w7uI8jQxzMT5",
        "outputId": "1b974fbe-84f6-4735-909e-29f8bc49fd8d"
      },
      "execution_count": 17,
      "outputs": [
        {
          "output_type": "stream",
          "name": "stdout",
          "text": [
            "Test Accuracy: 10.00%\n"
          ]
        },
        {
          "output_type": "display_data",
          "data": {
            "text/plain": [
              "<Figure size 1000x800 with 2 Axes>"
            ],
            "image/png": "[encoded data removed]"
          },
          "metadata": {}
        }
      ]
    },
    {
      "cell_type": "markdown",
      "source": [
        "**Analysis**\n",
        "\n",
        "**Discuss the strengths and limitations of using an RBF network for this\n",
        "dataset.**\n",
        "\n"
      ],
      "metadata": {
        "id": "_XwxPL8wzQRa"
      }
    },
    {
      "cell_type": "markdown",
      "source": [
        "**Strengths of Using an RBF Network**\n",
        "\n",
        "Good for Non-linear Problems:\n",
        "\n",
        "* RBF networks are particularly effective for problems where the decision boundary is non-linear. The Gaussian basis functions allow the model to adapt to complex patterns in the data, making them suitable for character recognition tasks like classifying ancient Japanese characters.\n",
        "\n",
        "Locality:\n",
        "\n",
        "* The RBF function has a localized response to inputs, meaning that it can effectively model complex local structures in the input space. This is beneficial in image classification, where specific features (like strokes or shapes) are important.\n",
        "\n",
        "Robustness to Overfitting:\n",
        "\n",
        "* With proper regularization and tuning of the number of RBF units, these networks can avoid overfitting, especially in cases where the training dataset is small relative to the input dimension (as is often the case with image data).\n",
        "\n",
        "Fast Training:\n",
        "\n",
        "* Once the centers of the RBF units are determined (using techniques like K-means), the training process is relatively fast since it primarily involves updating the weights, making it computationally efficient.\n",
        "\n",
        "Interpretability:\n",
        "\n",
        "* The structure of RBF networks allows for some interpretability. The influence of each RBF unit can be traced back to specific areas in the input space, helping to understand which features contribute most to the classifications."
      ],
      "metadata": {
        "id": "bGG2PlR8zrYI"
      }
    },
    {
      "cell_type": "markdown",
      "source": [
        "**Limitations of Using an RBF Network**\n",
        "\n",
        "Choice of Centers:\n",
        "\n",
        "The performance of an RBF network heavily relies on the selection of RBF centers. If the centers are not well chosen, the model may fail to capture the underlying data distribution effectively.\n",
        "\n",
        "Sensitivity to Parameters:\n",
        "\n",
        "* The model's performance can be sensitive to the width parameter of the Gaussian functions. If the width is too small, the RBF units may respond too narrowly, leading to overfitting.\n",
        "\n",
        "Scalability:\n",
        "\n",
        "* As the dataset size increases, RBF networks can become computationally expensive. The K-means clustering step and the calculations for Gaussian activations can be slow with large datasets, especially when the input dimensionality is high.\n",
        "\n",
        "Limited Generalization:\n",
        "\n",
        "* RBF networks can struggle to generalize well beyond the training set if not carefully tuned. They may not perform as well on unseen data compared to other neural network architectures, like convolutional neural networks, which are often preferred for image data.\n",
        "\n",
        "Not Widely Used in Practice:\n",
        "\n",
        "* While RBF networks are theoretically interesting, they are less commonly used in practical applications compared to deep learning approaches. As a result, there may be fewer resources and community support for troubleshooting and optimization."
      ],
      "metadata": {
        "id": "rrMWuav7z7FY"
      }
    },
    {
      "cell_type": "markdown",
      "source": [
        "**How does the number of RBF units affect model performance?**"
      ],
      "metadata": {
        "id": "x5gBALqizhBx"
      }
    },
    {
      "cell_type": "markdown",
      "source": [
        "Underfitting vs. Overfitting:\n",
        "\n",
        "* Few RBF Units: If the number of RBF units is too low, the network may not have enough capacity to capture the complexity of the data. This can lead to underfitting, where the model fails to learn the underlying patterns, resulting in poor performance on both training and test datasets.\n",
        "\n",
        "* Too Many RBF Units: Conversely, if the number of RBF units is excessively high, the model may become overly complex, capturing noise in the training data. This can lead to overfitting, where the model performs well on training data but poorly on unseen data, resulting in a decrease in generalization ability.\n",
        "\n",
        "Computational Complexity:\n",
        "\n",
        "* The computational complexity of the model increases with the number of RBF units. Training and inference times may rise, which can be a limitation for real-time applications or when working with large datasets.\n",
        "\n",
        "Performance Tuning:\n",
        "\n",
        "* Finding the optimal number of RBF units is crucial. Typically, this is done through cross-validation, where different configurations are tested to see which provides the best trade-off between bias and variance. The optimal number may vary based on the dataset characteristics, such as complexity and size.\n",
        "\n",
        "Influence on Decision Boundaries:\n",
        "\n",
        "* The decision boundaries of the RBF network are influenced by the positions of the RBF centers and the number of units. More units can lead to more complex decision boundaries, which can be beneficial for datasets with intricate class distributions."
      ],
      "metadata": {
        "id": "M1GLWwll0ML8"
      }
    }
  ]
}